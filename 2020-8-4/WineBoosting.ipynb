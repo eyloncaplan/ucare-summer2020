{
 "cells": [
  {
   "cell_type": "code",
   "execution_count": 29,
   "metadata": {},
   "outputs": [],
   "source": [
    "import numpy as np\n",
    "import warnings\n",
    "import pandas as pd\n",
    "%matplotlib inline\n",
    "import matplotlib.pyplot as plt\n",
    "\n",
    "from sklearn.metrics import confusion_matrix, precision_score, recall_score, f1_score, roc_curve, precision_recall_curve, classification_report\n",
    "from sklearn.model_selection import train_test_split, GridSearchCV, cross_val_score\n",
    "from sklearn.metrics import accuracy_score, confusion_matrix, precision_score, recall_score, f1_score, classification_report\n",
    "from sklearn.tree import DecisionTreeClassifier\n",
    "from sklearn.ensemble import RandomForestClassifier, ExtraTreesClassifier, GradientBoostingClassifier\n",
    "from sklearn.ensemble import AdaBoostClassifier\n",
    "\n",
    "\n",
    "np.random.seed(42)"
   ]
  },
  {
   "cell_type": "code",
   "execution_count": 2,
   "metadata": {},
   "outputs": [],
   "source": [
    "wine = pd.read_csv(\"~/ucare-summer2020/datasets/winequality-white.csv\", sep=\";\")\n",
    "\n",
    "X = wine.drop(columns=['quality'])\n",
    "y = wine['quality']\n",
    "y = y > 5\n",
    "y = y.astype(int)\n",
    "\n",
    "X_train, X_test, y_train, y_test = train_test_split(X, y, test_size=0.20, random_state=42)"
   ]
  },
  {
   "cell_type": "code",
   "execution_count": 5,
   "metadata": {},
   "outputs": [],
   "source": [
    "def report_clf(clf):\n",
    "    y_train_predicted = clf.predict(X_train)\n",
    "    y_test_predicted = clf.predict(X_test)\n",
    "    print(\"\\nTrain Accuracy: \", np.mean(y_train_predicted == y_train))\n",
    "    print(\"-----------------------------------------\")\n",
    "    print(\"\\nTest Accuracy: \", np.mean(y_test_predicted == y_test))\n",
    "    print(\"\\nTest Confusion Matrix:\")\n",
    "    print(confusion_matrix(y_test, y_test_predicted))\n",
    "\n",
    "\n",
    "    precision_test = precision_score(y_test, y_test_predicted) \n",
    "    print(\"\\nTest Precision = %f\" % precision_test)\n",
    "\n",
    "    recall_test = recall_score(y_test, y_test_predicted)\n",
    "    print(\"Test Recall = %f\" % recall_test)\n",
    "\n",
    "\n",
    "    f1_test = f1_score(y_test, y_test_predicted)\n",
    "    print(\"Test F1 Score = %f\" % f1_test)\n",
    "\n",
    "\n",
    "    print(\"\\nClassification Report:\")\n",
    "    print(classification_report(y_test, y_test_predicted))"
   ]
  },
  {
   "cell_type": "code",
   "execution_count": 28,
   "metadata": {},
   "outputs": [
    {
     "name": "stdout",
     "output_type": "stream",
     "text": [
      "\n",
      "Train Accuracy:  1.0\n",
      "-----------------------------------------\n",
      "\n",
      "Test Accuracy:  0.8275510204081633\n",
      "\n",
      "Test Confusion Matrix:\n",
      "[[217 104]\n",
      " [ 65 594]]\n",
      "\n",
      "Test Precision = 0.851003\n",
      "Test Recall = 0.901366\n",
      "Test F1 Score = 0.875461\n",
      "\n",
      "Classification Report:\n",
      "              precision    recall  f1-score   support\n",
      "\n",
      "           0       0.77      0.68      0.72       321\n",
      "           1       0.85      0.90      0.88       659\n",
      "\n",
      "    accuracy                           0.83       980\n",
      "   macro avg       0.81      0.79      0.80       980\n",
      "weighted avg       0.82      0.83      0.82       980\n",
      "\n"
     ]
    }
   ],
   "source": [
    "ada_clf = AdaBoostClassifier(\n",
    "    DecisionTreeClassifier(max_depth=5), n_estimators=500,\n",
    "    algorithm=\"SAMME.R\", learning_rate=0.5)\n",
    "ada_clf.fit(X_train, y_train)\n",
    "\n",
    "report_clf(ada_clf)"
   ]
  },
  {
   "cell_type": "code",
   "execution_count": 27,
   "metadata": {},
   "outputs": [],
   "source": [
    "param_grid = {\"base_estimator__max_depth\" : [1],\n",
    "              \"learning_rate\" :   [0.5],\n",
    "              \"n_estimators\": [200, 500]\n",
    "             }\n",
    "\n",
    "extra_trees_clf = ExtraTreesClassifier(criterion=\"gini\", max_features=\"auto\", \n",
    "                                       class_weight=\"balanced\", oob_score=True, \n",
    "                                       bootstrap=True, n_jobs=-1)\n",
    "\n",
    "ada_clf = AdaBoostClassifier(extra_trees_clf, algorithm=\"SAMME.R\")\n",
    "\n",
    "ada_cv = GridSearchCV(ada_clf, param_grid=param_grid, scoring = 'accuracy', verbose=3, cv=3)\n",
    "ada_cv.fit(X_train, y_train)\n",
    "\n",
    "report_clf(ada_cv)"
   ]
  },
  {
   "cell_type": "code",
   "execution_count": 48,
   "metadata": {},
   "outputs": [
    {
     "name": "stdout",
     "output_type": "stream",
     "text": [
      "\n",
      "Train Accuracy:  1.0\n",
      "-----------------------------------------\n",
      "\n",
      "Test Accuracy:  0.8408163265306122\n",
      "\n",
      "Test Confusion Matrix:\n",
      "[[241  80]\n",
      " [ 76 583]]\n",
      "\n",
      "Test Precision = 0.879336\n",
      "Test Recall = 0.884674\n",
      "Test F1 Score = 0.881997\n",
      "\n",
      "Classification Report:\n",
      "              precision    recall  f1-score   support\n",
      "\n",
      "           0       0.76      0.75      0.76       321\n",
      "           1       0.88      0.88      0.88       659\n",
      "\n",
      "    accuracy                           0.84       980\n",
      "   macro avg       0.82      0.82      0.82       980\n",
      "weighted avg       0.84      0.84      0.84       980\n",
      "\n"
     ]
    }
   ],
   "source": [
    "gbrt = GradientBoostingClassifier(max_depth=10, n_estimators=300, learning_rate=0.5)\n",
    "gbrt.fit(X_train, y_train)\n",
    "\n",
    "report_clf(gbrt)"
   ]
  },
  {
   "cell_type": "code",
   "execution_count": null,
   "metadata": {},
   "outputs": [],
   "source": []
  }
 ],
 "metadata": {
  "kernelspec": {
   "display_name": "Python 3",
   "language": "python",
   "name": "python3"
  },
  "language_info": {
   "codemirror_mode": {
    "name": "ipython",
    "version": 3
   },
   "file_extension": ".py",
   "mimetype": "text/x-python",
   "name": "python",
   "nbconvert_exporter": "python",
   "pygments_lexer": "ipython3",
   "version": "3.8.3"
  }
 },
 "nbformat": 4,
 "nbformat_minor": 4
}
