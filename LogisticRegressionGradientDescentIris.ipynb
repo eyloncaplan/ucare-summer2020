{
 "cells": [
  {
   "cell_type": "code",
   "execution_count": 1,
   "metadata": {},
   "outputs": [],
   "source": [
    "import warnings\n",
    "import numpy as np\n",
    "\n",
    "%matplotlib inline\n",
    "import matplotlib.pyplot as plt\n",
    "\n",
    "from sklearn.datasets import load_iris\n",
    "from sklearn.linear_model import SGDClassifier\n",
    "from sklearn.metrics import confusion_matrix\n",
    "from sklearn.model_selection import train_test_split, GridSearchCV, cross_val_score"
   ]
  },
  {
   "cell_type": "code",
   "execution_count": 2,
   "metadata": {},
   "outputs": [
    {
     "name": "stdout",
     "output_type": "stream",
     "text": [
      "dict_keys(['data', 'target', 'frame', 'target_names', 'DESCR', 'feature_names', 'filename'])\n",
      "['sepal length (cm)', 'sepal width (cm)', 'petal length (cm)', 'petal width (cm)']\n",
      "['setosa' 'versicolor' 'virginica']\n",
      "(150, 4)\n"
     ]
    }
   ],
   "source": [
    "iris = load_iris()\n",
    "\n",
    "print(iris.keys())\n",
    "print(iris.feature_names)\n",
    "print(iris.target_names)\n",
    "print(iris.data.shape)\n",
    "\n",
    "#print(iris.DESCR)\n"
   ]
  },
  {
   "cell_type": "code",
   "execution_count": 3,
   "metadata": {},
   "outputs": [],
   "source": [
    "X = iris[\"data\"][:, (2, 3)]  # petal length, petal width\n",
    "y = iris[\"target\"]"
   ]
  },
  {
   "cell_type": "code",
   "execution_count": 4,
   "metadata": {},
   "outputs": [],
   "source": [
    "X_train, X_test, y_train, y_test = train_test_split(X, y, test_size=0.20, random_state=42)"
   ]
  },
  {
   "cell_type": "code",
   "execution_count": 5,
   "metadata": {},
   "outputs": [
    {
     "name": "stdout",
     "output_type": "stream",
     "text": [
      "Fitting 3 folds for each of 1296 candidates, totalling 3888 fits\n"
     ]
    },
    {
     "name": "stderr",
     "output_type": "stream",
     "text": [
      "[Parallel(n_jobs=-1)]: Using backend LokyBackend with 4 concurrent workers.\n",
      "[Parallel(n_jobs=-1)]: Done  68 tasks      | elapsed:    1.7s\n",
      "[Parallel(n_jobs=-1)]: Done 3810 tasks      | elapsed:   20.1s\n"
     ]
    },
    {
     "name": "stdout",
     "output_type": "stream",
     "text": [
      "Best Score (accuracy): 0.975000\n",
      "Optimal Hyperparameter Values:  {'alpha': 0.001, 'eta0': 0.01, 'learning_rate': 'optimal', 'loss': 'hinge', 'max_iter': 500, 'penalty': 'l2', 'tol': 0.001}\n",
      "\n",
      "\n",
      "CPU times: user 2.32 s, sys: 109 ms, total: 2.43 s\n",
      "Wall time: 20.7 s\n"
     ]
    },
    {
     "name": "stderr",
     "output_type": "stream",
     "text": [
      "[Parallel(n_jobs=-1)]: Done 3888 out of 3888 | elapsed:   20.6s finished\n"
     ]
    }
   ],
   "source": [
    "%%time\n",
    "\n",
    "warnings.filterwarnings('ignore')\n",
    "\n",
    "\n",
    "param_grid = {'alpha': [0.05, 0.01, 0.001],\n",
    "              'penalty' : [\"l2\"],\n",
    "              'learning_rate': [\"constant\", \"optimal\", \"invscaling\", \"adaptive\"], \n",
    "              'max_iter':[500, 1000, 3000, 7000],\n",
    "              'eta0': [0.1, 0.01, 0.001],\n",
    "              'tol': [1e-3, 1e-5, 1e-8],\n",
    "              'loss': ['hinge', 'log', 'modified_huber']}\n",
    "\n",
    "  \n",
    "sgd_clf = SGDClassifier()\n",
    "\n",
    "sgd_clf_cv = GridSearchCV(sgd_clf, param_grid, scoring='accuracy', cv=3, verbose=1, n_jobs=-1)\n",
    "sgd_clf_cv.fit(X_train, y_train)\n",
    "\n",
    "params_optimal = sgd_clf_cv.best_params_\n",
    "\n",
    "print(\"Best Score (accuracy): %f\" % sgd_clf_cv.best_score_)\n",
    "print(\"Optimal Hyperparameter Values: \", params_optimal)\n",
    "print(\"\\n\")"
   ]
  },
  {
   "cell_type": "code",
   "execution_count": 6,
   "metadata": {},
   "outputs": [
    {
     "data": {
      "text/plain": [
       "SGDClassifier(alpha=0.001, eta0=0.01, max_iter=500)"
      ]
     },
     "execution_count": 6,
     "metadata": {},
     "output_type": "execute_result"
    }
   ],
   "source": [
    "sgd = SGDClassifier(**params_optimal)\n",
    "sgd.fit(X_train, y_train)"
   ]
  },
  {
   "cell_type": "code",
   "execution_count": 8,
   "metadata": {},
   "outputs": [
    {
     "name": "stdout",
     "output_type": "stream",
     "text": [
      "\n",
      "No. of Iterations: 39\n",
      "\n",
      "Weight Coefficients:\n",
      " [[-10.11586678  -5.45377165]\n",
      " [  2.2839089   -9.00732609]\n",
      " [ 10.0271207   10.60362867]]\n",
      "\n",
      "Weight Intercept:\n",
      " [ 29.52254559  -6.01173558 -65.87214375]\n",
      "\n",
      "Test Accuracy:  0.8\n",
      "\n",
      "Test Confusion Matrix (Test Data):\n",
      " [[10  0  0]\n",
      " [ 0  3  6]\n",
      " [ 0  0 11]]\n"
     ]
    }
   ],
   "source": [
    "print(\"\\nNo. of Iterations:\", sgd.n_iter_ )\n",
    "\n",
    "print(\"\\nWeight Coefficients:\\n\", sgd.coef_ )\n",
    "\n",
    "print(\"\\nWeight Intercept:\\n\", sgd.intercept_ )\n",
    "\n",
    "\n",
    "y_test_predict = sgd.predict(X_test)\n",
    "#print(y_test_predict)\n",
    "\n",
    "accuracy_score_test = np.mean(y_test_predict == y_test)\n",
    "print(\"\\nTest Accuracy: \", accuracy_score_test)\n",
    "\n",
    "# Confusion Matrix\n",
    "print(\"\\nTest Confusion Matrix (Test Data):\\n\", confusion_matrix(y_test, y_test_predict))"
   ]
  },
  {
   "cell_type": "code",
   "execution_count": 9,
   "metadata": {},
   "outputs": [
    {
     "name": "stdout",
     "output_type": "stream",
     "text": [
      "Fitting 3 folds for each of 2160 candidates, totalling 6480 fits\n"
     ]
    },
    {
     "name": "stderr",
     "output_type": "stream",
     "text": [
      "[Parallel(n_jobs=-1)]: Using backend LokyBackend with 4 concurrent workers.\n",
      "[Parallel(n_jobs=-1)]: Done 200 tasks      | elapsed:    1.3s\n",
      "[Parallel(n_jobs=-1)]: Done 1400 tasks      | elapsed:   11.2s\n",
      "[Parallel(n_jobs=-1)]: Done 3400 tasks      | elapsed:   27.7s\n",
      "[Parallel(n_jobs=-1)]: Done 6200 tasks      | elapsed:   50.3s\n"
     ]
    },
    {
     "name": "stdout",
     "output_type": "stream",
     "text": [
      "Best Score (accuracy): 0.950000\n",
      "Optimal Hyperparameter Values:  {'alpha': 0.05, 'eta0': 0.001, 'learning_rate': 'optimal', 'loss': 'hinge', 'max_iter': 3000, 'penalty': 'l2', 'tol': 0.001}\n",
      "\n",
      "\n",
      "CPU times: user 5.31 s, sys: 181 ms, total: 5.5 s\n",
      "Wall time: 55.3 s\n"
     ]
    },
    {
     "name": "stderr",
     "output_type": "stream",
     "text": [
      "[Parallel(n_jobs=-1)]: Done 6480 out of 6480 | elapsed:   55.2s finished\n"
     ]
    }
   ],
   "source": [
    "%%time\n",
    "\n",
    "warnings.filterwarnings('ignore')\n",
    "\n",
    "param_grid = {'alpha': [0.05, 0.01, 0.001],\n",
    "              'penalty' : [\"l2\", \"l1\"],\n",
    "              'learning_rate': [\"constant\", \"optimal\", \"invscaling\", \"adaptive\"], \n",
    "              'max_iter':[100, 500, 1000, 3000, 7000],\n",
    "              'eta0': [0.01, 0.001],\n",
    "              'tol': [1e-3, 1e-5, 1e-8],\n",
    "              'loss': ['hinge', 'log', 'modified_huber']}\n",
    "\n",
    "\n",
    "sgd_clf = SGDClassifier(early_stopping=True)\n",
    "\n",
    "sgd_clf_cv = GridSearchCV(sgd_clf, param_grid, scoring='accuracy', cv=3, verbose=1, n_jobs=-1)\n",
    "sgd_clf_cv.fit(X_train, y_train)\n",
    "\n",
    "params_optimal = sgd_clf_cv.best_params_\n",
    "\n",
    "print(\"Best Score (accuracy): %f\" % sgd_clf_cv.best_score_)\n",
    "print(\"Optimal Hyperparameter Values: \", params_optimal)\n",
    "print(\"\\n\")"
   ]
  },
  {
   "cell_type": "code",
   "execution_count": 10,
   "metadata": {},
   "outputs": [
    {
     "data": {
      "text/plain": [
       "SGDClassifier(alpha=0.05, early_stopping=True, eta0=0.001, max_iter=3000)"
      ]
     },
     "execution_count": 10,
     "metadata": {},
     "output_type": "execute_result"
    }
   ],
   "source": [
    "\n",
    "sgd_early_stopping = SGDClassifier(**params_optimal, early_stopping=True)\n",
    "\n",
    "\n",
    "sgd_early_stopping.fit(X_train, y_train)"
   ]
  },
  {
   "cell_type": "code",
   "execution_count": 11,
   "metadata": {},
   "outputs": [
    {
     "name": "stdout",
     "output_type": "stream",
     "text": [
      "\n",
      "No. of Iterations: 6\n",
      "\n",
      "Weight Coefficients:\n",
      " [[-1.26131563 -0.4722317 ]\n",
      " [ 0.44481179 -0.65503106]\n",
      " [ 0.67635766  1.13944939]]\n",
      "\n",
      "Weight Intercept:\n",
      " [ 3.54596945 -1.7012629  -5.70425702]\n",
      "\n",
      "Test Accuracy:  1.0\n",
      "\n",
      "Test Confusion Matrix (Test Data):\n",
      " [[10  0  0]\n",
      " [ 0  9  0]\n",
      " [ 0  0 11]]\n"
     ]
    }
   ],
   "source": [
    "print(\"\\nNo. of Iterations:\", sgd_early_stopping.n_iter_ )\n",
    "\n",
    "\n",
    "print(\"\\nWeight Coefficients:\\n\", sgd_early_stopping.coef_ )\n",
    "\n",
    "print(\"\\nWeight Intercept:\\n\", sgd_early_stopping.intercept_ )\n",
    "\n",
    "\n",
    "y_test_predict = sgd_early_stopping.predict(X_test)\n",
    "#print(y_test_predict)\n",
    "\n",
    "accuracy_score_test = np.mean(y_test_predict == y_test)\n",
    "print(\"\\nTest Accuracy: \", accuracy_score_test)\n",
    "\n",
    "# Confusion Matrix\n",
    "print(\"\\nTest Confusion Matrix (Test Data):\\n\", confusion_matrix(y_test, y_test_predict))"
   ]
  },
  {
   "cell_type": "code",
   "execution_count": 12,
   "metadata": {},
   "outputs": [
    {
     "name": "stdout",
     "output_type": "stream",
     "text": [
      "\n",
      "Weight Coefficients (Without Early Stopping):\n",
      " [[-10.11586678  -5.45377165]\n",
      " [  2.2839089   -9.00732609]\n",
      " [ 10.0271207   10.60362867]]\n",
      "\n",
      "Weight Coefficients (Early Stopping):\n",
      " [[-1.26131563 -0.4722317 ]\n",
      " [ 0.44481179 -0.65503106]\n",
      " [ 0.67635766  1.13944939]]\n",
      "\n",
      "\n",
      "\n",
      "No. of Iterations (Without Early Stopping): 39\n",
      "\n",
      "No. of Iterations (Early Stopping): 6\n"
     ]
    }
   ],
   "source": [
    "print(\"\\nWeight Coefficients (Without Early Stopping):\\n\", sgd.coef_ )\n",
    "print(\"\\nWeight Coefficients (Early Stopping):\\n\", sgd_early_stopping.coef_)\n",
    "\n",
    "print(\"\\n\")\n",
    "print(\"\\nNo. of Iterations (Without Early Stopping):\", sgd.n_iter_ )\n",
    "print(\"\\nNo. of Iterations (Early Stopping):\", sgd_early_stopping.n_iter_ )"
   ]
  },
  {
   "cell_type": "code",
   "execution_count": null,
   "metadata": {},
   "outputs": [],
   "source": []
  }
 ],
 "metadata": {
  "kernelspec": {
   "display_name": "Python 3",
   "language": "python",
   "name": "python3"
  },
  "language_info": {
   "codemirror_mode": {
    "name": "ipython",
    "version": 3
   },
   "file_extension": ".py",
   "mimetype": "text/x-python",
   "name": "python",
   "nbconvert_exporter": "python",
   "pygments_lexer": "ipython3",
   "version": "3.8.3"
  }
 },
 "nbformat": 4,
 "nbformat_minor": 4
}
