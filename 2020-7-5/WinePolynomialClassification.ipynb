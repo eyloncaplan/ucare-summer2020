{
 "cells": [
  {
   "cell_type": "code",
   "execution_count": 7,
   "metadata": {},
   "outputs": [],
   "source": [
    "import numpy as np\n",
    "import warnings\n",
    "import pandas as pd\n",
    "%matplotlib inline\n",
    "import matplotlib.pyplot as plt\n",
    "\n",
    "from sklearn.linear_model import SGDClassifier\n",
    "from sklearn.linear_model import LogisticRegression\n",
    "from sklearn.metrics import confusion_matrix, precision_score, recall_score, f1_score, roc_curve, precision_recall_curve, classification_report\n",
    "from sklearn.model_selection import train_test_split, GridSearchCV, cross_val_score\n",
    "from sklearn.preprocessing import PolynomialFeatures\n",
    "from sklearn.pipeline import make_pipeline\n",
    "from sklearn.preprocessing import StandardScaler"
   ]
  },
  {
   "cell_type": "code",
   "execution_count": 2,
   "metadata": {},
   "outputs": [
    {
     "data": {
      "text/html": [
       "<div>\n",
       "<style scoped>\n",
       "    .dataframe tbody tr th:only-of-type {\n",
       "        vertical-align: middle;\n",
       "    }\n",
       "\n",
       "    .dataframe tbody tr th {\n",
       "        vertical-align: top;\n",
       "    }\n",
       "\n",
       "    .dataframe thead th {\n",
       "        text-align: right;\n",
       "    }\n",
       "</style>\n",
       "<table border=\"1\" class=\"dataframe\">\n",
       "  <thead>\n",
       "    <tr style=\"text-align: right;\">\n",
       "      <th></th>\n",
       "      <th>fixed acidity</th>\n",
       "      <th>volatile acidity</th>\n",
       "      <th>citric acid</th>\n",
       "      <th>residual sugar</th>\n",
       "      <th>chlorides</th>\n",
       "      <th>free sulfur dioxide</th>\n",
       "      <th>total sulfur dioxide</th>\n",
       "      <th>density</th>\n",
       "      <th>pH</th>\n",
       "      <th>sulphates</th>\n",
       "      <th>alcohol</th>\n",
       "      <th>quality</th>\n",
       "    </tr>\n",
       "  </thead>\n",
       "  <tbody>\n",
       "    <tr>\n",
       "      <th>0</th>\n",
       "      <td>7.0</td>\n",
       "      <td>0.27</td>\n",
       "      <td>0.36</td>\n",
       "      <td>20.7</td>\n",
       "      <td>0.045</td>\n",
       "      <td>45.0</td>\n",
       "      <td>170.0</td>\n",
       "      <td>1.00100</td>\n",
       "      <td>3.00</td>\n",
       "      <td>0.45</td>\n",
       "      <td>8.8</td>\n",
       "      <td>6</td>\n",
       "    </tr>\n",
       "    <tr>\n",
       "      <th>1</th>\n",
       "      <td>6.3</td>\n",
       "      <td>0.30</td>\n",
       "      <td>0.34</td>\n",
       "      <td>1.6</td>\n",
       "      <td>0.049</td>\n",
       "      <td>14.0</td>\n",
       "      <td>132.0</td>\n",
       "      <td>0.99400</td>\n",
       "      <td>3.30</td>\n",
       "      <td>0.49</td>\n",
       "      <td>9.5</td>\n",
       "      <td>6</td>\n",
       "    </tr>\n",
       "    <tr>\n",
       "      <th>2</th>\n",
       "      <td>8.1</td>\n",
       "      <td>0.28</td>\n",
       "      <td>0.40</td>\n",
       "      <td>6.9</td>\n",
       "      <td>0.050</td>\n",
       "      <td>30.0</td>\n",
       "      <td>97.0</td>\n",
       "      <td>0.99510</td>\n",
       "      <td>3.26</td>\n",
       "      <td>0.44</td>\n",
       "      <td>10.1</td>\n",
       "      <td>6</td>\n",
       "    </tr>\n",
       "    <tr>\n",
       "      <th>3</th>\n",
       "      <td>7.2</td>\n",
       "      <td>0.23</td>\n",
       "      <td>0.32</td>\n",
       "      <td>8.5</td>\n",
       "      <td>0.058</td>\n",
       "      <td>47.0</td>\n",
       "      <td>186.0</td>\n",
       "      <td>0.99560</td>\n",
       "      <td>3.19</td>\n",
       "      <td>0.40</td>\n",
       "      <td>9.9</td>\n",
       "      <td>6</td>\n",
       "    </tr>\n",
       "    <tr>\n",
       "      <th>4</th>\n",
       "      <td>7.2</td>\n",
       "      <td>0.23</td>\n",
       "      <td>0.32</td>\n",
       "      <td>8.5</td>\n",
       "      <td>0.058</td>\n",
       "      <td>47.0</td>\n",
       "      <td>186.0</td>\n",
       "      <td>0.99560</td>\n",
       "      <td>3.19</td>\n",
       "      <td>0.40</td>\n",
       "      <td>9.9</td>\n",
       "      <td>6</td>\n",
       "    </tr>\n",
       "    <tr>\n",
       "      <th>...</th>\n",
       "      <td>...</td>\n",
       "      <td>...</td>\n",
       "      <td>...</td>\n",
       "      <td>...</td>\n",
       "      <td>...</td>\n",
       "      <td>...</td>\n",
       "      <td>...</td>\n",
       "      <td>...</td>\n",
       "      <td>...</td>\n",
       "      <td>...</td>\n",
       "      <td>...</td>\n",
       "      <td>...</td>\n",
       "    </tr>\n",
       "    <tr>\n",
       "      <th>4893</th>\n",
       "      <td>6.2</td>\n",
       "      <td>0.21</td>\n",
       "      <td>0.29</td>\n",
       "      <td>1.6</td>\n",
       "      <td>0.039</td>\n",
       "      <td>24.0</td>\n",
       "      <td>92.0</td>\n",
       "      <td>0.99114</td>\n",
       "      <td>3.27</td>\n",
       "      <td>0.50</td>\n",
       "      <td>11.2</td>\n",
       "      <td>6</td>\n",
       "    </tr>\n",
       "    <tr>\n",
       "      <th>4894</th>\n",
       "      <td>6.6</td>\n",
       "      <td>0.32</td>\n",
       "      <td>0.36</td>\n",
       "      <td>8.0</td>\n",
       "      <td>0.047</td>\n",
       "      <td>57.0</td>\n",
       "      <td>168.0</td>\n",
       "      <td>0.99490</td>\n",
       "      <td>3.15</td>\n",
       "      <td>0.46</td>\n",
       "      <td>9.6</td>\n",
       "      <td>5</td>\n",
       "    </tr>\n",
       "    <tr>\n",
       "      <th>4895</th>\n",
       "      <td>6.5</td>\n",
       "      <td>0.24</td>\n",
       "      <td>0.19</td>\n",
       "      <td>1.2</td>\n",
       "      <td>0.041</td>\n",
       "      <td>30.0</td>\n",
       "      <td>111.0</td>\n",
       "      <td>0.99254</td>\n",
       "      <td>2.99</td>\n",
       "      <td>0.46</td>\n",
       "      <td>9.4</td>\n",
       "      <td>6</td>\n",
       "    </tr>\n",
       "    <tr>\n",
       "      <th>4896</th>\n",
       "      <td>5.5</td>\n",
       "      <td>0.29</td>\n",
       "      <td>0.30</td>\n",
       "      <td>1.1</td>\n",
       "      <td>0.022</td>\n",
       "      <td>20.0</td>\n",
       "      <td>110.0</td>\n",
       "      <td>0.98869</td>\n",
       "      <td>3.34</td>\n",
       "      <td>0.38</td>\n",
       "      <td>12.8</td>\n",
       "      <td>7</td>\n",
       "    </tr>\n",
       "    <tr>\n",
       "      <th>4897</th>\n",
       "      <td>6.0</td>\n",
       "      <td>0.21</td>\n",
       "      <td>0.38</td>\n",
       "      <td>0.8</td>\n",
       "      <td>0.020</td>\n",
       "      <td>22.0</td>\n",
       "      <td>98.0</td>\n",
       "      <td>0.98941</td>\n",
       "      <td>3.26</td>\n",
       "      <td>0.32</td>\n",
       "      <td>11.8</td>\n",
       "      <td>6</td>\n",
       "    </tr>\n",
       "  </tbody>\n",
       "</table>\n",
       "<p>4898 rows × 12 columns</p>\n",
       "</div>"
      ],
      "text/plain": [
       "      fixed acidity  volatile acidity  citric acid  residual sugar  chlorides  \\\n",
       "0               7.0              0.27         0.36            20.7      0.045   \n",
       "1               6.3              0.30         0.34             1.6      0.049   \n",
       "2               8.1              0.28         0.40             6.9      0.050   \n",
       "3               7.2              0.23         0.32             8.5      0.058   \n",
       "4               7.2              0.23         0.32             8.5      0.058   \n",
       "...             ...               ...          ...             ...        ...   \n",
       "4893            6.2              0.21         0.29             1.6      0.039   \n",
       "4894            6.6              0.32         0.36             8.0      0.047   \n",
       "4895            6.5              0.24         0.19             1.2      0.041   \n",
       "4896            5.5              0.29         0.30             1.1      0.022   \n",
       "4897            6.0              0.21         0.38             0.8      0.020   \n",
       "\n",
       "      free sulfur dioxide  total sulfur dioxide  density    pH  sulphates  \\\n",
       "0                    45.0                 170.0  1.00100  3.00       0.45   \n",
       "1                    14.0                 132.0  0.99400  3.30       0.49   \n",
       "2                    30.0                  97.0  0.99510  3.26       0.44   \n",
       "3                    47.0                 186.0  0.99560  3.19       0.40   \n",
       "4                    47.0                 186.0  0.99560  3.19       0.40   \n",
       "...                   ...                   ...      ...   ...        ...   \n",
       "4893                 24.0                  92.0  0.99114  3.27       0.50   \n",
       "4894                 57.0                 168.0  0.99490  3.15       0.46   \n",
       "4895                 30.0                 111.0  0.99254  2.99       0.46   \n",
       "4896                 20.0                 110.0  0.98869  3.34       0.38   \n",
       "4897                 22.0                  98.0  0.98941  3.26       0.32   \n",
       "\n",
       "      alcohol  quality  \n",
       "0         8.8        6  \n",
       "1         9.5        6  \n",
       "2        10.1        6  \n",
       "3         9.9        6  \n",
       "4         9.9        6  \n",
       "...       ...      ...  \n",
       "4893     11.2        6  \n",
       "4894      9.6        5  \n",
       "4895      9.4        6  \n",
       "4896     12.8        7  \n",
       "4897     11.8        6  \n",
       "\n",
       "[4898 rows x 12 columns]"
      ]
     },
     "execution_count": 2,
     "metadata": {},
     "output_type": "execute_result"
    }
   ],
   "source": [
    "wine = pd.read_csv(\"~/ucare-summer2020/datasets/winequality-white.csv\", sep=\";\")\n",
    "wine"
   ]
  },
  {
   "cell_type": "code",
   "execution_count": 3,
   "metadata": {},
   "outputs": [],
   "source": [
    "X = wine.drop(columns=['quality'])\n",
    "y = wine['quality']\n",
    "y = y > 5\n",
    "y = y.astype(int)"
   ]
  },
  {
   "cell_type": "code",
   "execution_count": 4,
   "metadata": {},
   "outputs": [],
   "source": [
    "X_train, X_test, y_train, y_test = train_test_split(X, y, test_size=0.20, random_state=42)"
   ]
  },
  {
   "cell_type": "code",
   "execution_count": 5,
   "metadata": {},
   "outputs": [],
   "source": [
    "attributes = [\"fixed acidity\", \"volatile acidity\", \"citric acid\", \"residual sugar\", \"chlorides\",\n",
    "              \"free sulfur dioxide\", \"total sulfur dioxide\", \"density\", \"pH\", \"sulphates\", \"alcohol\"]\n"
   ]
  },
  {
   "cell_type": "code",
   "execution_count": 57,
   "metadata": {},
   "outputs": [],
   "source": [
    "poly_features = PolynomialFeatures(degree=2, include_bias=False)\n",
    "\n",
    "eff_X = X.loc[:, [\"alcohol\", \"density\"]]\n",
    "eff_X_test = X_test.loc[:, [\"alcohol\", \"density\"]]\n",
    "eff_X_train = X_train.loc[:, [\"alcohol\", \"density\"]]\n",
    "\n",
    "eff_X_train_poly = poly_features.fit_transform(eff_X_train)\n",
    "eff_X_test_poly = poly_features.fit_transform(eff_X_test)"
   ]
  },
  {
   "cell_type": "code",
   "execution_count": null,
   "metadata": {},
   "outputs": [],
   "source": [
    "def decision_boundary_equation_based(clf, X, column1, column2):\n",
    "    X = X[[column1, column2]]\n",
    "    xmin, xmax = X.min() - 0.01, X.max() + 0.01\n",
    "    \n",
    "    w = clf.coef_[0] # We use index 0 to return a list from a 1 x 2 coef_ matrix\n",
    "    b = clf.intercept_[0]\n",
    "    x1 = np.linspace(xmin, xmax, 100)\n",
    "    decision_boundary = -(b + w[0]*x1)/w[1]\n",
    "    plt.plot(x1, decision_boundary, \"k--\", linewidth=3)"
   ]
  },
  {
   "cell_type": "code",
   "execution_count": null,
   "metadata": {},
   "outputs": [],
   "source": [
    "def plot_boundary_clf(clf, eff_X, y, column1, column2):\n",
    "    eff_X = pd.DataFrame(eff_X)\n",
    "    index = eff_X_train.index\n",
    "    eff_X = temp.set_index(index)\n",
    "    \n",
    "    plt.figure(figsize=(12, 6))\n",
    "    \n",
    "    plt.plot(eff_X[y==0].iloc[:,column1], eff_X[y==0].iloc[:,column2], \"bs\")\n",
    "    plt.plot(eff_X[y==1].iloc[:,column1], eff_X[y==1].iloc[:,column2], \"g^\")\n",
    "    \n",
    "    xmin, xmax = eff_X.min() - 0.01, eff_X.max() + 0.01\n",
    "    plt.axis([xmin[column1], xmax[column1], xmin[column2], xmax[column2]])\n",
    "    plt.annotate('Bad Wine', xy=(0.85, 0.95), xycoords='axes fraction', color=\"b\")\n",
    "    plt.annotate('Good Wine', xy=(0.85, 0.85), xycoords='axes fraction', color=\"g\")\n",
    "    plt.xlabel(\"Feature 1\", fontsize=14)\n",
    "    plt.ylabel(\"Feature 2\", fontsize=14)\n",
    "    plt.title(\"Polynomial Features Plot\", fontsize=16)\n",
    "    plt.show()"
   ]
  },
  {
   "cell_type": "code",
   "execution_count": 61,
   "metadata": {},
   "outputs": [
    {
     "name": "stdout",
     "output_type": "stream",
     "text": [
      "Fitting 3 folds for each of 150 candidates, totalling 450 fits\n"
     ]
    },
    {
     "name": "stderr",
     "output_type": "stream",
     "text": [
      "[Parallel(n_jobs=-1)]: Using backend LokyBackend with 4 concurrent workers.\n",
      "[Parallel(n_jobs=-1)]: Done  42 tasks      | elapsed:    5.8s\n",
      "[Parallel(n_jobs=-1)]: Done 192 tasks      | elapsed:   33.2s\n",
      "[Parallel(n_jobs=-1)]: Done 442 tasks      | elapsed:  1.5min\n"
     ]
    },
    {
     "name": "stdout",
     "output_type": "stream",
     "text": [
      "Optimal Hyperparameter Values:  {'C': 1, 'max_iter': 3000, 'solver': 'liblinear', 'tol': 1e-05}\n",
      "\n",
      "\n"
     ]
    },
    {
     "name": "stderr",
     "output_type": "stream",
     "text": [
      "[Parallel(n_jobs=-1)]: Done 450 out of 450 | elapsed:  1.7min finished\n"
     ]
    }
   ],
   "source": [
    "param_grid = {'solver': ['liblinear', 'newton-cg', 'lbfgs', 'sag', 'saga'],\n",
    "             'tol': [1e-4, 1e-5], 'max_iter': [3000, 5000, 10000],\n",
    "             'C': [0.0001, 0.001, 0.1, 0.5, 1]}\n",
    "lg_reg = LogisticRegression()\n",
    "lg_reg_cv = GridSearchCV(lg_reg, param_grid, scoring='accuracy',\n",
    "                        cv=3, verbose=1, n_jobs=-1)\n",
    "lg_reg_cv.fit(eff_X_train_poly, y_train)\n",
    "params_optimal = lg_reg_cv.best_params_\n",
    "\n",
    "print(\"Optimal Hyperparameter Values: \", params_optimal)\n",
    "print(\"\\n\")"
   ]
  },
  {
   "cell_type": "code",
   "execution_count": 62,
   "metadata": {},
   "outputs": [
    {
     "data": {
      "text/plain": [
       "LogisticRegression(C=1, max_iter=3000, solver='liblinear', tol=1e-05)"
      ]
     },
     "execution_count": 62,
     "metadata": {},
     "output_type": "execute_result"
    }
   ],
   "source": [
    "lg_reg_clf = LogisticRegression(**params_optimal)\n",
    "lg_reg_clf.fit(eff_X_train_poly, y_train)"
   ]
  },
  {
   "cell_type": "code",
   "execution_count": 167,
   "metadata": {},
   "outputs": [
    {
     "data": {
      "image/png": "[encoded data removed]",
      "text/plain": [
       "<Figure size 864x432 with 1 Axes>"
      ]
     },
     "metadata": {
      "needs_background": "light"
     },
     "output_type": "display_data"
    },
    {
     "data": {
      "text/html": [
       "<div>\n",
       "<style scoped>\n",
       "    .dataframe tbody tr th:only-of-type {\n",
       "        vertical-align: middle;\n",
       "    }\n",
       "\n",
       "    .dataframe tbody tr th {\n",
       "        vertical-align: top;\n",
       "    }\n",
       "\n",
       "    .dataframe thead th {\n",
       "        text-align: right;\n",
       "    }\n",
       "</style>\n",
       "<table border=\"1\" class=\"dataframe\">\n",
       "  <thead>\n",
       "    <tr style=\"text-align: right;\">\n",
       "      <th></th>\n",
       "      <th>0</th>\n",
       "      <th>1</th>\n",
       "      <th>2</th>\n",
       "      <th>3</th>\n",
       "      <th>4</th>\n",
       "    </tr>\n",
       "  </thead>\n",
       "  <tbody>\n",
       "    <tr>\n",
       "      <th>0</th>\n",
       "      <td>12.4</td>\n",
       "      <td>0.99272</td>\n",
       "      <td>153.76</td>\n",
       "      <td>12.309728</td>\n",
       "      <td>0.985493</td>\n",
       "    </tr>\n",
       "    <tr>\n",
       "      <th>1</th>\n",
       "      <td>9.5</td>\n",
       "      <td>0.99680</td>\n",
       "      <td>90.25</td>\n",
       "      <td>9.469600</td>\n",
       "      <td>0.993610</td>\n",
       "    </tr>\n",
       "    <tr>\n",
       "      <th>2</th>\n",
       "      <td>11.1</td>\n",
       "      <td>0.99268</td>\n",
       "      <td>123.21</td>\n",
       "      <td>11.018748</td>\n",
       "      <td>0.985414</td>\n",
       "    </tr>\n",
       "    <tr>\n",
       "      <th>3</th>\n",
       "      <td>10.8</td>\n",
       "      <td>0.99315</td>\n",
       "      <td>116.64</td>\n",
       "      <td>10.726020</td>\n",
       "      <td>0.986347</td>\n",
       "    </tr>\n",
       "    <tr>\n",
       "      <th>4</th>\n",
       "      <td>10.4</td>\n",
       "      <td>0.99976</td>\n",
       "      <td>108.16</td>\n",
       "      <td>10.397504</td>\n",
       "      <td>0.999520</td>\n",
       "    </tr>\n",
       "    <tr>\n",
       "      <th>...</th>\n",
       "      <td>...</td>\n",
       "      <td>...</td>\n",
       "      <td>...</td>\n",
       "      <td>...</td>\n",
       "      <td>...</td>\n",
       "    </tr>\n",
       "    <tr>\n",
       "      <th>3913</th>\n",
       "      <td>9.9</td>\n",
       "      <td>0.99418</td>\n",
       "      <td>98.01</td>\n",
       "      <td>9.842382</td>\n",
       "      <td>0.988394</td>\n",
       "    </tr>\n",
       "    <tr>\n",
       "      <th>3914</th>\n",
       "      <td>9.4</td>\n",
       "      <td>0.99560</td>\n",
       "      <td>88.36</td>\n",
       "      <td>9.358640</td>\n",
       "      <td>0.991219</td>\n",
       "    </tr>\n",
       "    <tr>\n",
       "      <th>3915</th>\n",
       "      <td>11.4</td>\n",
       "      <td>0.99129</td>\n",
       "      <td>129.96</td>\n",
       "      <td>11.300706</td>\n",
       "      <td>0.982656</td>\n",
       "    </tr>\n",
       "    <tr>\n",
       "      <th>3916</th>\n",
       "      <td>10.6</td>\n",
       "      <td>0.99567</td>\n",
       "      <td>112.36</td>\n",
       "      <td>10.554102</td>\n",
       "      <td>0.991359</td>\n",
       "    </tr>\n",
       "    <tr>\n",
       "      <th>3917</th>\n",
       "      <td>10.4</td>\n",
       "      <td>0.99255</td>\n",
       "      <td>108.16</td>\n",
       "      <td>10.322520</td>\n",
       "      <td>0.985156</td>\n",
       "    </tr>\n",
       "  </tbody>\n",
       "</table>\n",
       "<p>3918 rows × 5 columns</p>\n",
       "</div>"
      ],
      "text/plain": [
       "         0        1       2          3         4\n",
       "0     12.4  0.99272  153.76  12.309728  0.985493\n",
       "1      9.5  0.99680   90.25   9.469600  0.993610\n",
       "2     11.1  0.99268  123.21  11.018748  0.985414\n",
       "3     10.8  0.99315  116.64  10.726020  0.986347\n",
       "4     10.4  0.99976  108.16  10.397504  0.999520\n",
       "...    ...      ...     ...        ...       ...\n",
       "3913   9.9  0.99418   98.01   9.842382  0.988394\n",
       "3914   9.4  0.99560   88.36   9.358640  0.991219\n",
       "3915  11.4  0.99129  129.96  11.300706  0.982656\n",
       "3916  10.6  0.99567  112.36  10.554102  0.991359\n",
       "3917  10.4  0.99255  108.16  10.322520  0.985156\n",
       "\n",
       "[3918 rows x 5 columns]"
      ]
     },
     "execution_count": 167,
     "metadata": {},
     "output_type": "execute_result"
    }
   ],
   "source": [
    "plot_boundary_clf(lg_reg_clf, eff_X_train_poly, y_train, 0, 1)\n",
    "pd.DataFrame(eff_X_train_poly)"
   ]
  },
  {
   "cell_type": "code",
   "execution_count": null,
   "metadata": {},
   "outputs": [],
   "source": []
  },
  {
   "cell_type": "code",
   "execution_count": 231,
   "metadata": {},
   "outputs": [],
   "source": [
    "def polynomial_report(feature1, feature2):\n",
    "    poly_features = PolynomialFeatures(degree=2, include_bias=False)\n",
    "\n",
    "    eff_X = X.loc[:, [feature1, feature2]]\n",
    "    eff_X_test = X_test.loc[:, [feature1, feature2]]\n",
    "    eff_X_train = X_train.loc[:, [feature1, feature2]]\n",
    "\n",
    "    eff_X_train_poly = poly_features.fit_transform(eff_X_train)\n",
    "    eff_X_test_poly = poly_features.fit_transform(eff_X_test)\n",
    "    \n",
    "    param_grid = {'solver': ['liblinear', 'newton-cg', 'lbfgs', 'sag', 'saga'],\n",
    "             'tol': [1e-4, 1e-5], 'max_iter': [3000, 5000, 10000],\n",
    "             'C': [0.0001, 0.001, 0.1, 0.5, 1]}\n",
    "    lg_reg = LogisticRegression()\n",
    "    lg_reg_cv = GridSearchCV(lg_reg, param_grid, scoring='accuracy',\n",
    "                            cv=3, verbose=1, n_jobs=-1)\n",
    "    lg_reg_cv.fit(eff_X_train_poly, y_train)\n",
    "    params_optimal = lg_reg_cv.best_params_\n",
    "\n",
    "    print(\"Optimal Hyperparameter Values: \", params_optimal)\n",
    "    print(\"\\n\")\n",
    "    \n",
    "    lg_reg_clf = LogisticRegression(**params_optimal)\n",
    "    lg_reg_clf.fit(eff_X_train_poly, y_train)\n",
    "    \n",
    "    plot_boundary_clf(lg_reg_clf, eff_X)\n",
    "    \n",
    "    y_train_predicted = lg_reg_clf.predict(eff_X_train_poly)\n",
    "    y_test_predicted = lg_reg_clf.predict(eff_X_test_poly)\n",
    "    print(\"\\nTrain Accuracy: \", np.mean(y_train_predicted == y_train))\n",
    "    \n",
    "    print(\"-----------------------------------------\")\n",
    "    print(\"\\nTest Accuracy: \", np.mean(y_test_predicted == y_test))\n",
    "    print(\"\\nTest Confusion Matrix:\")\n",
    "    print(confusion_matrix(y_test, y_test_predicted))\n",
    "\n",
    "\n",
    "    precision_test = precision_score(y_test, y_test_predicted) \n",
    "    print(\"\\nTest Precision = %f\" % precision_test)\n",
    "\n",
    "    recall_test = recall_score(y_test, y_test_predicted)\n",
    "    print(\"Test Recall = %f\" % recall_test)\n",
    "\n",
    "\n",
    "    f1_test = f1_score(y_test, y_test_predicted)\n",
    "    print(\"Test F1 Score = %f\" % f1_test)\n",
    "\n",
    "\n",
    "    print(\"\\nClassification Report:\")\n",
    "    print(classification_report(y_test, y_test_predicted))"
   ]
  },
  {
   "cell_type": "code",
   "execution_count": null,
   "metadata": {},
   "outputs": [],
   "source": []
  },
  {
   "cell_type": "code",
   "execution_count": null,
   "metadata": {},
   "outputs": [],
   "source": []
  },
  {
   "cell_type": "code",
   "execution_count": 202,
   "metadata": {},
   "outputs": [],
   "source": [
    "def decision_boundary_class_colored(clf, X, plotDistanceFromHyperplane=False, colorBar=False):\n",
    "    \n",
    "    # Get the min and max value of feature x1\n",
    "    x1min, x1max = X.iloc[:,0].min() - 0.1, X.iloc[:, 0].max() + 0.1\n",
    "    \n",
    "    # Get the min and max value of feature x2\n",
    "    x2min, x2max = X.iloc[:,1].min() - 0.1, X.iloc[:, 1].max() + 0.1\n",
    "    \n",
    "    # Create the mesh grid\n",
    "    x1s = np.linspace(x1min, x1max, 100)\n",
    "    x2s = np.linspace(x2min, x2max, 100)\n",
    "    x1, x2 = np.meshgrid(x1s, x2s)\n",
    "    \n",
    "    \n",
    "    # Create pairs of new points from the grid\n",
    "    X_new = np.c_[x1.ravel(), x2.ravel()]\n",
    "    X_new_poly = poly_features.fit_transform(X_new)\n",
    "    \n",
    "    # Compute the class predictions for all new points\n",
    "    y_pred = clf.predict(X_new_poly).reshape(x1.shape)\n",
    "    \n",
    "    \n",
    "    # Generate the contourf plot for the predictions\n",
    "    plt.contourf(x1, x2, y_pred, cmap=plt.cm.binary, alpha=0.8)\n",
    "    \n",
    "    \n",
    "    if(plotDistanceFromHyperplane == True):\n",
    "    \n",
    "        # Compute the signed distance of a sample to the hyperplane for all new points\n",
    "        y_decision = clf.decision_function(X_new).reshape(x1.shape)\n",
    "\n",
    "        # Generate the contourf plot for the distance of all points from the hyperplane\n",
    "        plt.contourf(x1, x2, y_decision, cmap=plt.cm.bwr, alpha=0.2)\n",
    "    \n",
    "    if(colorBar==True):\n",
    "        plt.colorbar()"
   ]
  },
  {
   "cell_type": "code",
   "execution_count": null,
   "metadata": {},
   "outputs": [],
   "source": []
  },
  {
   "cell_type": "code",
   "execution_count": 224,
   "metadata": {},
   "outputs": [],
   "source": [
    "def plot_boundary_clf(clf, X):\n",
    "    plt.figure(figsize=(12, 6))\n",
    "    \n",
    "    decision_boundary_class_colored(clf, X)\n",
    "\n",
    "    plt.plot(X[y==0].iloc[:,0], X[y==0].iloc[:,1], \"bs\")\n",
    "    plt.plot(X[y==1].iloc[:,0], X[y==1].iloc[:,1], \"g^\")\n",
    "    \n",
    "    xmin, xmax = eff_X.min() - 0.01, eff_X.max() + 0.01\n",
    "    plt.axis([xmin[0], xmax[0], xmin[1], xmax[1]])\n",
    "    plt.annotate('Bad Wine', xy=(0.85, 0.95), xycoords='axes fraction', color=\"b\")\n",
    "    plt.annotate('Good Wine', xy=(0.85, 0.85), xycoords='axes fraction', color=\"g\")\n",
    "    plt.xlabel(\"Feature 1\", fontsize=14)\n",
    "    plt.ylabel(\"Feature 2\", fontsize=14)\n",
    "    plt.title(\"Polynomial Features Plot\", fontsize=16)\n",
    "    plt.show()"
   ]
  },
  {
   "cell_type": "code",
   "execution_count": 232,
   "metadata": {},
   "outputs": [
    {
     "name": "stdout",
     "output_type": "stream",
     "text": [
      "Fitting 3 folds for each of 150 candidates, totalling 450 fits\n"
     ]
    },
    {
     "name": "stderr",
     "output_type": "stream",
     "text": [
      "[Parallel(n_jobs=-1)]: Using backend LokyBackend with 4 concurrent workers.\n",
      "[Parallel(n_jobs=-1)]: Done  74 tasks      | elapsed:   10.1s\n",
      "[Parallel(n_jobs=-1)]: Done 224 tasks      | elapsed:   40.2s\n",
      "[Parallel(n_jobs=-1)]: Done 450 out of 450 | elapsed:  1.7min finished\n"
     ]
    },
    {
     "name": "stdout",
     "output_type": "stream",
     "text": [
      "Optimal Hyperparameter Values:  {'C': 1, 'max_iter': 3000, 'solver': 'liblinear', 'tol': 1e-05}\n",
      "\n",
      "\n"
     ]
    },
    {
     "data": {
      "image/png": "[encoded data removed]",
      "text/plain": [
       "<Figure size 864x432 with 1 Axes>"
      ]
     },
     "metadata": {
      "needs_background": "light"
     },
     "output_type": "display_data"
    },
    {
     "name": "stdout",
     "output_type": "stream",
     "text": [
      "\n",
      "Train Accuracy:  0.6949974476773865\n",
      "-----------------------------------------\n",
      "\n",
      "Test Accuracy:  0.6969387755102041\n",
      "\n",
      "Test Confusion Matrix:\n",
      "[[138 183]\n",
      " [114 545]]\n",
      "\n",
      "Test Precision = 0.748626\n",
      "Test Recall = 0.827011\n",
      "Test F1 Score = 0.785869\n",
      "\n",
      "Classification Report:\n",
      "              precision    recall  f1-score   support\n",
      "\n",
      "           0       0.55      0.43      0.48       321\n",
      "           1       0.75      0.83      0.79       659\n",
      "\n",
      "    accuracy                           0.70       980\n",
      "   macro avg       0.65      0.63      0.63       980\n",
      "weighted avg       0.68      0.70      0.69       980\n",
      "\n"
     ]
    }
   ],
   "source": [
    "polynomial_report(\"alcohol\", \"density\")"
   ]
  },
  {
   "cell_type": "code",
   "execution_count": 233,
   "metadata": {},
   "outputs": [
    {
     "data": {
      "image/png": "[encoded data removed]",
      "text/plain": [
       "<Figure size 864x432 with 1 Axes>"
      ]
     },
     "metadata": {
      "needs_background": "light"
     },
     "output_type": "display_data"
    }
   ],
   "source": [
    "plot_boundary_clf(lg_reg_clf, eff_X)"
   ]
  },
  {
   "cell_type": "code",
   "execution_count": 234,
   "metadata": {},
   "outputs": [
    {
     "data": {
      "text/plain": [
       "array([[-1.22069375,  0.1796257 ,  0.07844577,  0.42135639,  0.36430415]])"
      ]
     },
     "execution_count": 234,
     "metadata": {},
     "output_type": "execute_result"
    }
   ],
   "source": [
    "lg_reg_clf.coef_"
   ]
  },
  {
   "cell_type": "code",
   "execution_count": 259,
   "metadata": {},
   "outputs": [
    {
     "data": {
      "text/plain": [
       "array([1])"
      ]
     },
     "execution_count": 259,
     "metadata": {},
     "output_type": "execute_result"
    }
   ],
   "source": [
    "test = pd.DataFrame()\n",
    "alcohol = 9.2\n",
    "density = 1.04\n",
    "test['a'] = [alcohol]\n",
    "test['b'] = [density]\n",
    "test['c'] = [alcohol**2]\n",
    "test['d'] = [alcohol*density]\n",
    "test['e'] = [density**2]\n",
    "lg_reg_clf.predict(test)"
   ]
  },
  {
   "cell_type": "code",
   "execution_count": null,
   "metadata": {},
   "outputs": [],
   "source": []
  }
 ],
 "metadata": {
  "kernelspec": {
   "display_name": "Python 3",
   "language": "python",
   "name": "python3"
  },
  "language_info": {
   "codemirror_mode": {
    "name": "ipython",
    "version": 3
   },
   "file_extension": ".py",
   "mimetype": "text/x-python",
   "name": "python",
   "nbconvert_exporter": "python",
   "pygments_lexer": "ipython3",
   "version": "3.8.3"
  }
 },
 "nbformat": 4,
 "nbformat_minor": 4
}
