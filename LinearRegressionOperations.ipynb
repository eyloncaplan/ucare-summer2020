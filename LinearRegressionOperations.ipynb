{
 "cells": [
  {
   "cell_type": "code",
   "execution_count": 1,
   "metadata": {},
   "outputs": [
    {
     "data": {
      "text/html": [
       "<div>\n",
       "<style scoped>\n",
       "    .dataframe tbody tr th:only-of-type {\n",
       "        vertical-align: middle;\n",
       "    }\n",
       "\n",
       "    .dataframe tbody tr th {\n",
       "        vertical-align: top;\n",
       "    }\n",
       "\n",
       "    .dataframe thead th {\n",
       "        text-align: right;\n",
       "    }\n",
       "</style>\n",
       "<table border=\"1\" class=\"dataframe\">\n",
       "  <thead>\n",
       "    <tr style=\"text-align: right;\">\n",
       "      <th></th>\n",
       "      <th>first_operand</th>\n",
       "      <th>second_operand</th>\n",
       "      <th>output</th>\n",
       "    </tr>\n",
       "  </thead>\n",
       "  <tbody>\n",
       "    <tr>\n",
       "      <th>0</th>\n",
       "      <td>27.648298</td>\n",
       "      <td>48.061075</td>\n",
       "      <td>1328.806903</td>\n",
       "    </tr>\n",
       "    <tr>\n",
       "      <th>1</th>\n",
       "      <td>5.359169</td>\n",
       "      <td>8.383043</td>\n",
       "      <td>44.926145</td>\n",
       "    </tr>\n",
       "    <tr>\n",
       "      <th>2</th>\n",
       "      <td>48.441236</td>\n",
       "      <td>8.132520</td>\n",
       "      <td>393.949304</td>\n",
       "    </tr>\n",
       "    <tr>\n",
       "      <th>3</th>\n",
       "      <td>61.356805</td>\n",
       "      <td>26.738168</td>\n",
       "      <td>1640.568561</td>\n",
       "    </tr>\n",
       "    <tr>\n",
       "      <th>4</th>\n",
       "      <td>66.694216</td>\n",
       "      <td>43.811058</td>\n",
       "      <td>2921.944170</td>\n",
       "    </tr>\n",
       "    <tr>\n",
       "      <th>...</th>\n",
       "      <td>...</td>\n",
       "      <td>...</td>\n",
       "      <td>...</td>\n",
       "    </tr>\n",
       "    <tr>\n",
       "      <th>95</th>\n",
       "      <td>63.750492</td>\n",
       "      <td>84.107808</td>\n",
       "      <td>5361.914133</td>\n",
       "    </tr>\n",
       "    <tr>\n",
       "      <th>96</th>\n",
       "      <td>72.852309</td>\n",
       "      <td>88.824885</td>\n",
       "      <td>6471.097946</td>\n",
       "    </tr>\n",
       "    <tr>\n",
       "      <th>97</th>\n",
       "      <td>55.576786</td>\n",
       "      <td>37.070950</td>\n",
       "      <td>2060.284266</td>\n",
       "    </tr>\n",
       "    <tr>\n",
       "      <th>98</th>\n",
       "      <td>70.363964</td>\n",
       "      <td>37.880709</td>\n",
       "      <td>2665.436870</td>\n",
       "    </tr>\n",
       "    <tr>\n",
       "      <th>99</th>\n",
       "      <td>97.138545</td>\n",
       "      <td>0.020203</td>\n",
       "      <td>1.962495</td>\n",
       "    </tr>\n",
       "  </tbody>\n",
       "</table>\n",
       "<p>100 rows × 3 columns</p>\n",
       "</div>"
      ],
      "text/plain": [
       "    first_operand  second_operand       output\n",
       "0       27.648298       48.061075  1328.806903\n",
       "1        5.359169        8.383043    44.926145\n",
       "2       48.441236        8.132520   393.949304\n",
       "3       61.356805       26.738168  1640.568561\n",
       "4       66.694216       43.811058  2921.944170\n",
       "..            ...             ...          ...\n",
       "95      63.750492       84.107808  5361.914133\n",
       "96      72.852309       88.824885  6471.097946\n",
       "97      55.576786       37.070950  2060.284266\n",
       "98      70.363964       37.880709  2665.436870\n",
       "99      97.138545        0.020203     1.962495\n",
       "\n",
       "[100 rows x 3 columns]"
      ]
     },
     "execution_count": 1,
     "metadata": {},
     "output_type": "execute_result"
    }
   ],
   "source": [
    "import pandas as pd\n",
    "import numpy as np\n",
    "\n",
    "data = pd.DataFrame(np.random.rand(100,2)*100, columns=['first_operand', 'second_operand'])\n",
    "data['output'] = data['first_operand'] * data['second_operand']\n",
    "data\n"
   ]
  },
  {
   "cell_type": "code",
   "execution_count": 2,
   "metadata": {},
   "outputs": [
    {
     "data": {
      "text/plain": [
       "array([[<matplotlib.axes._subplots.AxesSubplot object at 0x10ed2ee80>,\n",
       "        <matplotlib.axes._subplots.AxesSubplot object at 0x110d89640>],\n",
       "       [<matplotlib.axes._subplots.AxesSubplot object at 0x110db6ac0>,\n",
       "        <matplotlib.axes._subplots.AxesSubplot object at 0x110de5f70>]],\n",
       "      dtype=object)"
      ]
     },
     "execution_count": 2,
     "metadata": {},
     "output_type": "execute_result"
    },
    {
     "data": {
      "image/png": "[encoded data removed]",
      "text/plain": [
       "<Figure size 432x288 with 4 Axes>"
      ]
     },
     "metadata": {
      "needs_background": "light"
     },
     "output_type": "display_data"
    }
   ],
   "source": [
    "import matplotlib.pyplot as plt\n",
    "data.hist(bins=20)"
   ]
  },
  {
   "cell_type": "code",
   "execution_count": 3,
   "metadata": {},
   "outputs": [],
   "source": [
    "from sklearn.model_selection import train_test_split\n",
    "y = data['output']\n",
    "x = data.drop(columns='output')\n",
    "x_train, x_test, y_train, y_test = train_test_split(x, y, test_size=0.2)"
   ]
  },
  {
   "cell_type": "code",
   "execution_count": 4,
   "metadata": {},
   "outputs": [],
   "source": [
    "def evaluate_predictions(predictions, true):\n",
    "    mae = np.mean(abs(predictions - true))\n",
    "    rmse = np.sqrt(np.mean((predictions - true) ** 2))\n",
    "    return mae, rmse"
   ]
  },
  {
   "cell_type": "code",
   "execution_count": 5,
   "metadata": {},
   "outputs": [
    {
     "name": "stdout",
     "output_type": "stream",
     "text": [
      "1464.0035379615122\n",
      "1820.823386665315\n"
     ]
    }
   ],
   "source": [
    "median_pred = y_train.median()\n",
    "median_preds = [median_pred for _ in range(len(y_test))]\n",
    "true = y_test\n",
    "mb_mae, mb_rmse = evaluate_predictions(median_preds, true)\n",
    "print(mb_mae)\n",
    "print(mb_rmse)"
   ]
  },
  {
   "cell_type": "code",
   "execution_count": 6,
   "metadata": {},
   "outputs": [
    {
     "name": "stdout",
     "output_type": "stream",
     "text": [
      "intercept:  -2614.8289357272033\n",
      "coefficients:  [50.46205543 51.89881688]\n",
      "median mae:  1464.0035379615122\n",
      "median rmse:  1820.823386665315\n",
      "mae:  472.0223602858101\n",
      "rmse:  609.8177706914\n",
      "      0    1\n",
      "0  64.0  0.1\n",
      "[619.93249324]\n"
     ]
    }
   ],
   "source": [
    "from sklearn.linear_model import LinearRegression\n",
    "from sklearn.metrics import mean_squared_error\n",
    "\n",
    "\n",
    "model = LinearRegression()\n",
    "model.fit(x_train, y_train)\n",
    "b = model.intercept_\n",
    "print('intercept: ' , b)\n",
    "\n",
    "m = model.coef_\n",
    "print('coefficients: ' , m)\n",
    "\n",
    "y_predicted = model.predict(x_test)\n",
    "\n",
    "mae = np.mean(abs(y_predicted - y_test))\n",
    "rmse = np.sqrt(np.mean((y_predicted - y_test) ** 2))\n",
    "\n",
    "print('median mae: ', mb_mae)\n",
    "print('median rmse: ',mb_rmse)\n",
    "\n",
    "print('mae: ', mae)\n",
    "print('rmse: ', rmse)\n",
    "\n",
    "test = pd.DataFrame([64, 0.1]).T\n",
    "print(test)\n",
    "res = model.predict(test)\n",
    "print(res)"
   ]
  },
  {
   "cell_type": "code",
   "execution_count": null,
   "metadata": {},
   "outputs": [],
   "source": []
  },
  {
   "cell_type": "code",
   "execution_count": null,
   "metadata": {},
   "outputs": [],
   "source": []
  }
 ],
 "metadata": {
  "kernelspec": {
   "display_name": "Python 3",
   "language": "python",
   "name": "python3"
  },
  "language_info": {
   "codemirror_mode": {
    "name": "ipython",
    "version": 3
   },
   "file_extension": ".py",
   "mimetype": "text/x-python",
   "name": "python",
   "nbconvert_exporter": "python",
   "pygments_lexer": "ipython3",
   "version": "3.8.3"
  }
 },
 "nbformat": 4,
 "nbformat_minor": 4
}
