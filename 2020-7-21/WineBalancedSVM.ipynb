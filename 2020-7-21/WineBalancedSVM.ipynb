{
 "cells": [
  {
   "cell_type": "code",
   "execution_count": 14,
   "metadata": {},
   "outputs": [],
   "source": [
    "import numpy as np\n",
    "import warnings\n",
    "import pandas as pd\n",
    "%matplotlib inline\n",
    "import matplotlib.pyplot as plt\n",
    "\n",
    "from sklearn.metrics import confusion_matrix, precision_score, recall_score, f1_score, roc_curve, precision_recall_curve, classification_report\n",
    "from sklearn.model_selection import train_test_split, GridSearchCV, cross_val_score\n",
    "from imblearn.under_sampling import RandomUnderSampler \n",
    "from imblearn.over_sampling import ADASYN \n",
    "from sklearn.neighbors import KNeighborsClassifier\n",
    "from imblearn.combine import SMOTEENN \n",
    "from sklearn.pipeline import Pipeline\n",
    "from sklearn.svm import LinearSVC\n",
    "from sklearn.svm import SVC\n",
    "from sklearn.preprocessing import StandardScaler"
   ]
  },
  {
   "cell_type": "code",
   "execution_count": 2,
   "metadata": {},
   "outputs": [],
   "source": [
    "wine = pd.read_csv(\"~/ucare-summer2020/datasets/winequality-white.csv\", sep=\";\")"
   ]
  },
  {
   "cell_type": "code",
   "execution_count": 3,
   "metadata": {},
   "outputs": [],
   "source": [
    "X = wine.drop(columns=['quality'])\n",
    "y = wine['quality']\n",
    "y = y > 5\n",
    "y = y.astype(int)"
   ]
  },
  {
   "cell_type": "code",
   "execution_count": 4,
   "metadata": {},
   "outputs": [],
   "source": [
    "X_train, X_test, y_train, y_test = train_test_split(X, y, test_size=0.20, random_state=42)"
   ]
  },
  {
   "cell_type": "code",
   "execution_count": 5,
   "metadata": {},
   "outputs": [
    {
     "name": "stdout",
     "output_type": "stream",
     "text": [
      "Ratio of good wines to total wines: 0.66\n",
      "Ratio of bad wines to total wines: 0.34\n"
     ]
    }
   ],
   "source": [
    "good_total_ratio = np.mean(y_train)\n",
    "bad_total_ratio = 1 - good_total_ratio\n",
    "print(\"Ratio of good wines to total wines: %.2f\" % good_total_ratio)\n",
    "print(\"Ratio of bad wines to total wines: %.2f\" % bad_total_ratio)"
   ]
  },
  {
   "cell_type": "code",
   "execution_count": 6,
   "metadata": {},
   "outputs": [],
   "source": [
    "def report_clf(clf, X_train, X_test, y_train, y_test):\n",
    "    y_train_predicted = clf.predict(X_train)\n",
    "    y_test_predicted = clf.predict(X_test)\n",
    "    print(\"\\nTrain Accuracy: \", np.mean(y_train_predicted == y_train))\n",
    "    print(\"-----------------------------------------\")\n",
    "    print(\"\\nTest Accuracy: \", np.mean(y_test_predicted == y_test))\n",
    "    print(\"\\nTest Confusion Matrix:\")\n",
    "    print(confusion_matrix(y_test, y_test_predicted))\n",
    "\n",
    "\n",
    "    precision_test = precision_score(y_test, y_test_predicted) \n",
    "    print(\"\\nTest Precision = %f\" % precision_test)\n",
    "\n",
    "    recall_test = recall_score(y_test, y_test_predicted)\n",
    "    print(\"Test Recall = %f\" % recall_test)\n",
    "\n",
    "\n",
    "    f1_test = f1_score(y_test, y_test_predicted)\n",
    "    print(\"Test F1 Score = %f\" % f1_test)\n",
    "\n",
    "\n",
    "    print(\"\\nClassification Report:\")\n",
    "    print(classification_report(y_test, y_test_predicted))"
   ]
  },
  {
   "cell_type": "code",
   "execution_count": 11,
   "metadata": {},
   "outputs": [],
   "source": [
    "def sampling_report(gamma, C):\n",
    "    scaler = StandardScaler()\n",
    "    print(\"NO SAMPLING:\")\n",
    "    param_grid = {'svc__kernel': ['rbf'], 'svc__max_iter': [20000],\n",
    "                 'svc__C': C, 'svc__gamma': gamma}\n",
    "    svm_clf = SVC()\n",
    "    scaled_svm_clf = Pipeline([\n",
    "        (\"scaler\", scaler),\n",
    "        (\"svc\", svm_clf),\n",
    "    ])\n",
    "    svm_clf_cv = GridSearchCV(scaled_svm_clf, param_grid, scoring='accuracy',\n",
    "                            cv=5, verbose=1, n_jobs=-1)\n",
    "    svm_clf_cv.fit(X_train, y_train)\n",
    "    print(\"Optimal Hyperparameter Values: \", svm_clf_cv.best_params_)\n",
    "    print(\"\\n\")\n",
    "    \n",
    "    report_clf(svm_clf_cv, X_train, X_test, y_train, y_test)\n",
    "    \n",
    "    \n",
    "    \n",
    "    print(\"UNDERSAMPLING:\")\n",
    "    rus = RandomUnderSampler() \n",
    "    X_resampled, y_resampled = rus.fit_sample(X_train, y_train)\n",
    "    param_grid = {'svc__kernel': ['rbf'], 'svc__max_iter': [20000],\n",
    "                 'svc__C': C, 'svc__gamma': gamma}\n",
    "    svm_clf = SVC()\n",
    "    scaled_svm_clf = Pipeline([\n",
    "        (\"scaler\", scaler),\n",
    "        (\"svc\", svm_clf),\n",
    "    ])\n",
    "    svm_clf_cv = GridSearchCV(scaled_svm_clf, param_grid, scoring='accuracy',\n",
    "                            cv=5, verbose=1, n_jobs=-1)\n",
    "    svm_clf_cv.fit(X_train, y_train)\n",
    "    print(\"Optimal Hyperparameter Values: \", svm_clf_cv.best_params_)\n",
    "    print(\"\\n\")\n",
    "    \n",
    "    report_clf(svm_clf_cv, X_train, X_test, y_train, y_test)\n",
    "    \n",
    "    \n",
    "    print(\"OVERSAMPLING:\")\n",
    "    ada = ADASYN()\n",
    "    X_resampled, y_resampled = ada.fit_sample(X_train, y_train)\n",
    "    param_grid = {'svc__kernel': ['rbf'], 'svc__max_iter': [20000],\n",
    "                 'svc__C': C, 'svc__gamma': gamma}\n",
    "    svm_clf = SVC()\n",
    "    scaled_svm_clf = Pipeline([\n",
    "        (\"scaler\", scaler),\n",
    "        (\"svc\", svm_clf),\n",
    "    ])\n",
    "    svm_clf_cv = GridSearchCV(scaled_svm_clf, param_grid, scoring='accuracy',\n",
    "                            cv=5, verbose=1, n_jobs=-1)\n",
    "    svm_clf_cv.fit(X_train, y_train)\n",
    "    print(\"Optimal Hyperparameter Values: \", svm_clf_cv.best_params_)\n",
    "    print(\"\\n\")\n",
    "    \n",
    "    report_clf(svm_clf_cv, X_train, X_test, y_train, y_test)\n",
    "    \n",
    "    \n",
    "    print(\"SMOTEENN:\")\n",
    "    smo = SMOTEENN() \n",
    "    X_resampled, y_resampled = smo.fit_sample(X_train, y_train) \n",
    "    param_grid = {'svc__kernel': ['rbf'], 'svc__max_iter': [20000],\n",
    "                 'svc__C': C, 'svc__gamma': gamma}\n",
    "    svm_clf = SVC()\n",
    "    scaled_svm_clf = Pipeline([\n",
    "        (\"scaler\", scaler),\n",
    "        (\"svc\", svm_clf),\n",
    "    ])\n",
    "    svm_clf_cv = GridSearchCV(scaled_svm_clf, param_grid, scoring='accuracy',\n",
    "                            cv=5, verbose=1, n_jobs=-1)\n",
    "    svm_clf_cv.fit(X_train, y_train)\n",
    "    print(\"Optimal Hyperparameter Values: \", svm_clf_cv.best_params_)\n",
    "    print(\"\\n\")\n",
    "    \n",
    "    report_clf(svm_clf_cv, X_train, X_test, y_train, y_test)"
   ]
  },
  {
   "cell_type": "code",
   "execution_count": 15,
   "metadata": {},
   "outputs": [
    {
     "name": "stdout",
     "output_type": "stream",
     "text": [
      "NO SAMPLING:\n",
      "Fitting 5 folds for each of 72 candidates, totalling 360 fits\n"
     ]
    },
    {
     "name": "stderr",
     "output_type": "stream",
     "text": [
      "[Parallel(n_jobs=-1)]: Using backend LokyBackend with 4 concurrent workers.\n",
      "[Parallel(n_jobs=-1)]: Done  42 tasks      | elapsed:    7.0s\n",
      "[Parallel(n_jobs=-1)]: Done 192 tasks      | elapsed:   28.5s\n",
      "[Parallel(n_jobs=-1)]: Done 360 out of 360 | elapsed:  1.1min finished\n"
     ]
    },
    {
     "name": "stdout",
     "output_type": "stream",
     "text": [
      "Optimal Hyperparameter Values:  {'svc__C': 10, 'svc__gamma': 0.1, 'svc__kernel': 'rbf', 'svc__max_iter': 20000}\n",
      "\n",
      "\n",
      "\n",
      "Train Accuracy:  0.8700867789688617\n",
      "-----------------------------------------\n",
      "\n",
      "Test Accuracy:  0.7938775510204081\n",
      "\n",
      "Test Confusion Matrix:\n",
      "[[201 120]\n",
      " [ 82 577]]\n",
      "\n",
      "Test Precision = 0.827834\n",
      "Test Recall = 0.875569\n",
      "Test F1 Score = 0.851032\n",
      "\n",
      "Classification Report:\n",
      "              precision    recall  f1-score   support\n",
      "\n",
      "           0       0.71      0.63      0.67       321\n",
      "           1       0.83      0.88      0.85       659\n",
      "\n",
      "    accuracy                           0.79       980\n",
      "   macro avg       0.77      0.75      0.76       980\n",
      "weighted avg       0.79      0.79      0.79       980\n",
      "\n",
      "UNDERSAMPLING:\n",
      "Fitting 5 folds for each of 72 candidates, totalling 360 fits\n"
     ]
    },
    {
     "name": "stderr",
     "output_type": "stream",
     "text": [
      "[Parallel(n_jobs=-1)]: Using backend LokyBackend with 4 concurrent workers.\n",
      "[Parallel(n_jobs=-1)]: Done  42 tasks      | elapsed:    6.7s\n",
      "[Parallel(n_jobs=-1)]: Done 192 tasks      | elapsed:   35.3s\n",
      "[Parallel(n_jobs=-1)]: Done 360 out of 360 | elapsed:  1.4min finished\n"
     ]
    },
    {
     "name": "stdout",
     "output_type": "stream",
     "text": [
      "Optimal Hyperparameter Values:  {'svc__C': 10, 'svc__gamma': 0.1, 'svc__kernel': 'rbf', 'svc__max_iter': 20000}\n",
      "\n",
      "\n",
      "\n",
      "Train Accuracy:  0.8700867789688617\n",
      "-----------------------------------------\n",
      "\n",
      "Test Accuracy:  0.7938775510204081\n",
      "\n",
      "Test Confusion Matrix:\n",
      "[[201 120]\n",
      " [ 82 577]]\n",
      "\n",
      "Test Precision = 0.827834\n",
      "Test Recall = 0.875569\n",
      "Test F1 Score = 0.851032\n",
      "\n",
      "Classification Report:\n",
      "              precision    recall  f1-score   support\n",
      "\n",
      "           0       0.71      0.63      0.67       321\n",
      "           1       0.83      0.88      0.85       659\n",
      "\n",
      "    accuracy                           0.79       980\n",
      "   macro avg       0.77      0.75      0.76       980\n",
      "weighted avg       0.79      0.79      0.79       980\n",
      "\n",
      "OVERSAMPLING:\n",
      "Fitting 5 folds for each of 72 candidates, totalling 360 fits\n"
     ]
    },
    {
     "name": "stderr",
     "output_type": "stream",
     "text": [
      "[Parallel(n_jobs=-1)]: Using backend LokyBackend with 4 concurrent workers.\n",
      "[Parallel(n_jobs=-1)]: Done  42 tasks      | elapsed:    7.3s\n",
      "[Parallel(n_jobs=-1)]: Done 192 tasks      | elapsed:   37.0s\n",
      "[Parallel(n_jobs=-1)]: Done 360 out of 360 | elapsed:  1.4min finished\n"
     ]
    },
    {
     "name": "stdout",
     "output_type": "stream",
     "text": [
      "Optimal Hyperparameter Values:  {'svc__C': 10, 'svc__gamma': 0.1, 'svc__kernel': 'rbf', 'svc__max_iter': 20000}\n",
      "\n",
      "\n",
      "\n",
      "Train Accuracy:  0.8700867789688617\n",
      "-----------------------------------------\n",
      "\n",
      "Test Accuracy:  0.7938775510204081\n",
      "\n",
      "Test Confusion Matrix:\n",
      "[[201 120]\n",
      " [ 82 577]]\n",
      "\n",
      "Test Precision = 0.827834\n",
      "Test Recall = 0.875569\n",
      "Test F1 Score = 0.851032\n",
      "\n",
      "Classification Report:\n",
      "              precision    recall  f1-score   support\n",
      "\n",
      "           0       0.71      0.63      0.67       321\n",
      "           1       0.83      0.88      0.85       659\n",
      "\n",
      "    accuracy                           0.79       980\n",
      "   macro avg       0.77      0.75      0.76       980\n",
      "weighted avg       0.79      0.79      0.79       980\n",
      "\n",
      "SMOTEENN:\n",
      "Fitting 5 folds for each of 72 candidates, totalling 360 fits\n"
     ]
    },
    {
     "name": "stderr",
     "output_type": "stream",
     "text": [
      "[Parallel(n_jobs=-1)]: Using backend LokyBackend with 4 concurrent workers.\n",
      "[Parallel(n_jobs=-1)]: Done  42 tasks      | elapsed:    6.6s\n",
      "[Parallel(n_jobs=-1)]: Done 192 tasks      | elapsed:   33.0s\n",
      "[Parallel(n_jobs=-1)]: Done 360 out of 360 | elapsed:  1.3min finished\n"
     ]
    },
    {
     "name": "stdout",
     "output_type": "stream",
     "text": [
      "Optimal Hyperparameter Values:  {'svc__C': 10, 'svc__gamma': 0.1, 'svc__kernel': 'rbf', 'svc__max_iter': 20000}\n",
      "\n",
      "\n",
      "\n",
      "Train Accuracy:  0.8700867789688617\n",
      "-----------------------------------------\n",
      "\n",
      "Test Accuracy:  0.7938775510204081\n",
      "\n",
      "Test Confusion Matrix:\n",
      "[[201 120]\n",
      " [ 82 577]]\n",
      "\n",
      "Test Precision = 0.827834\n",
      "Test Recall = 0.875569\n",
      "Test F1 Score = 0.851032\n",
      "\n",
      "Classification Report:\n",
      "              precision    recall  f1-score   support\n",
      "\n",
      "           0       0.71      0.63      0.67       321\n",
      "           1       0.83      0.88      0.85       659\n",
      "\n",
      "    accuracy                           0.79       980\n",
      "   macro avg       0.77      0.75      0.76       980\n",
      "weighted avg       0.79      0.79      0.79       980\n",
      "\n"
     ]
    }
   ],
   "source": [
    "C = [0.0001, 0.001, 0.01, 0.1, 1, 10, 100, 1000, 1000000]\n",
    "gamma = [0.000001, 0.0001, 0.01, 0.1, 1, 10, 100, 1000]\n",
    "sampling_report(gamma, C)"
   ]
  },
  {
   "cell_type": "code",
   "execution_count": null,
   "metadata": {},
   "outputs": [],
   "source": []
  }
 ],
 "metadata": {
  "kernelspec": {
   "display_name": "Python 3",
   "language": "python",
   "name": "python3"
  },
  "language_info": {
   "codemirror_mode": {
    "name": "ipython",
    "version": 3
   },
   "file_extension": ".py",
   "mimetype": "text/x-python",
   "name": "python",
   "nbconvert_exporter": "python",
   "pygments_lexer": "ipython3",
   "version": "3.8.3"
  }
 },
 "nbformat": 4,
 "nbformat_minor": 4
}
