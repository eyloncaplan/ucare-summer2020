{
 "cells": [
  {
   "cell_type": "code",
   "execution_count": 24,
   "metadata": {},
   "outputs": [],
   "source": [
    "import numpy as np\n",
    "import warnings\n",
    "import pandas as pd\n",
    "%matplotlib inline\n",
    "import matplotlib.pyplot as plt\n",
    "\n",
    "from sklearn.linear_model import SGDClassifier\n",
    "from sklearn.linear_model import LogisticRegression\n",
    "from sklearn.metrics import confusion_matrix, precision_score, recall_score, f1_score, roc_curve, precision_recall_curve, classification_report\n",
    "from sklearn.model_selection import train_test_split, GridSearchCV, cross_val_score\n",
    "from imblearn.under_sampling import RandomUnderSampler \n",
    "from imblearn.over_sampling import ADASYN \n",
    "from sklearn.neighbors import KNeighborsClassifier\n",
    "from imblearn.combine import SMOTEENN "
   ]
  },
  {
   "cell_type": "code",
   "execution_count": 2,
   "metadata": {},
   "outputs": [],
   "source": [
    "wine = pd.read_csv(\"~/ucare-summer2020/datasets/winequality-white.csv\", sep=\";\")"
   ]
  },
  {
   "cell_type": "code",
   "execution_count": 4,
   "metadata": {},
   "outputs": [],
   "source": [
    "X = wine.drop(columns=['quality'])\n",
    "y = wine['quality']\n",
    "y = y > 5\n",
    "y = y.astype(int)"
   ]
  },
  {
   "cell_type": "code",
   "execution_count": 5,
   "metadata": {},
   "outputs": [],
   "source": [
    "X_train, X_test, y_train, y_test = train_test_split(X, y, test_size=0.20, random_state=42)"
   ]
  },
  {
   "cell_type": "code",
   "execution_count": 6,
   "metadata": {},
   "outputs": [
    {
     "name": "stdout",
     "output_type": "stream",
     "text": [
      "Ratio of good wines to total wines: 0.66\n",
      "Ratio of bad wines to total wines: 0.34\n"
     ]
    }
   ],
   "source": [
    "good_total_ratio = np.mean(y_train)\n",
    "bad_total_ratio = 1 - good_total_ratio\n",
    "print(\"Ratio of good wines to total wines: %.2f\" % good_total_ratio)\n",
    "print(\"Ratio of bad wines to total wines: %.2f\" % bad_total_ratio)"
   ]
  },
  {
   "cell_type": "code",
   "execution_count": 7,
   "metadata": {},
   "outputs": [],
   "source": [
    "def report_clf(clf, X_train, X_test, y_train, y_test):\n",
    "    y_train_predicted = clf.predict(X_train)\n",
    "    y_test_predicted = clf.predict(X_test)\n",
    "    print(\"\\nTrain Accuracy: \", np.mean(y_train_predicted == y_train))\n",
    "    print(\"-----------------------------------------\")\n",
    "    print(\"\\nTest Accuracy: \", np.mean(y_test_predicted == y_test))\n",
    "    print(\"\\nTest Confusion Matrix:\")\n",
    "    print(confusion_matrix(y_test, y_test_predicted))\n",
    "\n",
    "\n",
    "    precision_test = precision_score(y_test, y_test_predicted) \n",
    "    print(\"\\nTest Precision = %f\" % precision_test)\n",
    "\n",
    "    recall_test = recall_score(y_test, y_test_predicted)\n",
    "    print(\"Test Recall = %f\" % recall_test)\n",
    "\n",
    "\n",
    "    f1_test = f1_score(y_test, y_test_predicted)\n",
    "    print(\"Test F1 Score = %f\" % f1_test)\n",
    "\n",
    "\n",
    "    print(\"\\nClassification Report:\")\n",
    "    print(classification_report(y_test, y_test_predicted))"
   ]
  },
  {
   "cell_type": "code",
   "execution_count": 2,
   "metadata": {},
   "outputs": [],
   "source": [
    "def sampling_report():\n",
    "    print(\"NO SAMPLING:\")\n",
    "    param_grid = {'n_neighbors': [5, 10, 20, 40, 70, 200, 500], 'p': [1, 2, 10],\n",
    "              'weights': [\"uniform\", \"distance\"]}\n",
    "    knn_clf = KNeighborsClassifier()\n",
    "    knn_cv = GridSearchCV(knn_clf, param_grid, scoring='f1', cv=5, verbose=3, n_jobs=-1)\n",
    "    knn_cv.fit(X_train, y_train)\n",
    "\n",
    "\n",
    "    params_optimal_knn = knn_cv.best_params_\n",
    "\n",
    "    print(\"Best Score: %f\" % knn_cv.best_score_)\n",
    "    print(\"Optimal Hyperparameter Values: \", params_optimal_knn)\n",
    "    print(\"\\n\")\n",
    "    \n",
    "    report_clf(knn_cv, X_train, X_test, y_train, y_test)\n",
    "    \n",
    "    \n",
    "    \n",
    "    print(\"UNDERSAMPLING:\")\n",
    "    rus = RandomUnderSampler() \n",
    "    X_resampled, y_resampled = rus.fit_sample(X_train, y_train)\n",
    "    param_grid = {'n_neighbors': [5, 10, 20, 40, 70, 200, 500], 'p': [1, 2, 10],\n",
    "              'weights': [\"uniform\", \"distance\"]}\n",
    "    knn_clf = KNeighborsClassifier()\n",
    "    knn_cv = GridSearchCV(knn_clf, param_grid, scoring='f1', cv=5, verbose=3, n_jobs=-1)\n",
    "    knn_cv.fit(X_resampled, y_resampled)\n",
    "\n",
    "\n",
    "    params_optimal_knn = knn_cv.best_params_\n",
    "\n",
    "    print(\"Best Score: %f\" % knn_cv.best_score_)\n",
    "    print(\"Optimal Hyperparameter Values: \", params_optimal_knn)\n",
    "    print(\"\\n\")\n",
    "    \n",
    "    report_clf(knn_cv, X_train, X_test, y_train, y_test)\n",
    "    \n",
    "    \n",
    "    print(\"OVERSAMPLING:\")\n",
    "    ada = ADASYN()\n",
    "    X_resampled, y_resampled = ada.fit_sample(X_train, y_train)\n",
    "    param_grid = {'n_neighbors': [5, 10, 20, 40, 70, 200, 500], 'p': [1, 2, 10],\n",
    "              'weights': [\"uniform\", \"distance\"]}\n",
    "    knn_clf = KNeighborsClassifier()\n",
    "    knn_cv = GridSearchCV(knn_clf, param_grid, scoring='f1', cv=5, verbose=3, n_jobs=-1)\n",
    "    knn_cv.fit(X_resampled, y_resampled)\n",
    "\n",
    "\n",
    "    params_optimal_knn = knn_cv.best_params_\n",
    "\n",
    "    print(\"Best Score: %f\" % knn_cv.best_score_)\n",
    "    print(\"Optimal Hyperparameter Values: \", params_optimal_knn)\n",
    "    print(\"\\n\")\n",
    "    \n",
    "    report_clf(knn_cv, X_train, X_test, y_train, y_test)\n",
    "    \n",
    "    \n",
    "    print(\"SMOTEENN:\")\n",
    "    smo = SMOTEENN() \n",
    "    X_resampled, y_resampled = smo.fit_sample(X_train, y_train) \n",
    "    param_grid = {'n_neighbors': [5, 10, 20, 40, 70, 200, 500], 'p': [1, 2, 10],\n",
    "              'weights': [\"uniform\", \"distance\"]}\n",
    "    knn_clf = KNeighborsClassifier()\n",
    "    knn_cv = GridSearchCV(knn_clf, param_grid, scoring='f1', cv=5, verbose=3, n_jobs=-1)\n",
    "    knn_cv.fit(X_resampled, y_resampled)\n",
    "\n",
    "\n",
    "    params_optimal_knn = knn_cv.best_params_\n",
    "\n",
    "    print(\"Best Score: %f\" % knn_cv.best_score_)\n",
    "    print(\"Optimal Hyperparameter Values: \", params_optimal_knn)\n",
    "    print(\"\\n\")\n",
    "    \n",
    "    report_clf(knn_cv, X_train, X_test, y_train, y_test)"
   ]
  },
  {
   "cell_type": "code",
   "execution_count": 27,
   "metadata": {},
   "outputs": [
    {
     "name": "stdout",
     "output_type": "stream",
     "text": [
      "NO SAMPLING:\n",
      "Fitting 5 folds for each of 42 candidates, totalling 210 fits\n"
     ]
    },
    {
     "name": "stderr",
     "output_type": "stream",
     "text": [
      "[Parallel(n_jobs=-1)]: Using backend LokyBackend with 4 concurrent workers.\n",
      "[Parallel(n_jobs=-1)]: Done  48 tasks      | elapsed:    1.0s\n",
      "[Parallel(n_jobs=-1)]: Done 210 out of 210 | elapsed:    6.8s finished\n",
      "[Parallel(n_jobs=-1)]: Using backend LokyBackend with 4 concurrent workers.\n"
     ]
    },
    {
     "name": "stdout",
     "output_type": "stream",
     "text": [
      "Best Score: 0.843366\n",
      "Optimal Hyperparameter Values:  {'n_neighbors': 70, 'p': 1, 'weights': 'distance'}\n",
      "\n",
      "\n",
      "\n",
      "Train Accuracy:  1.0\n",
      "-----------------------------------------\n",
      "\n",
      "Test Accuracy:  0.7836734693877551\n",
      "\n",
      "Test Confusion Matrix:\n",
      "[[164 157]\n",
      " [ 55 604]]\n",
      "\n",
      "Test Precision = 0.793693\n",
      "Test Recall = 0.916540\n",
      "Test F1 Score = 0.850704\n",
      "\n",
      "Classification Report:\n",
      "              precision    recall  f1-score   support\n",
      "\n",
      "           0       0.75      0.51      0.61       321\n",
      "           1       0.79      0.92      0.85       659\n",
      "\n",
      "    accuracy                           0.78       980\n",
      "   macro avg       0.77      0.71      0.73       980\n",
      "weighted avg       0.78      0.78      0.77       980\n",
      "\n",
      "UNDERSAMPLING:\n",
      "Fitting 5 folds for each of 42 candidates, totalling 210 fits\n"
     ]
    },
    {
     "name": "stderr",
     "output_type": "stream",
     "text": [
      "[Parallel(n_jobs=-1)]: Done  56 tasks      | elapsed:    0.7s\n",
      "[Parallel(n_jobs=-1)]: Done 210 out of 210 | elapsed:    6.1s finished\n",
      "[Parallel(n_jobs=-1)]: Using backend LokyBackend with 4 concurrent workers.\n"
     ]
    },
    {
     "name": "stdout",
     "output_type": "stream",
     "text": [
      "Best Score: 0.725045\n",
      "Optimal Hyperparameter Values:  {'n_neighbors': 10, 'p': 1, 'weights': 'distance'}\n",
      "\n",
      "\n",
      "\n",
      "Train Accuracy:  0.9050535987748851\n",
      "-----------------------------------------\n",
      "\n",
      "Test Accuracy:  0.7357142857142858\n",
      "\n",
      "Test Confusion Matrix:\n",
      "[[246  75]\n",
      " [184 475]]\n",
      "\n",
      "Test Precision = 0.863636\n",
      "Test Recall = 0.720789\n",
      "Test F1 Score = 0.785773\n",
      "\n",
      "Classification Report:\n",
      "              precision    recall  f1-score   support\n",
      "\n",
      "           0       0.57      0.77      0.66       321\n",
      "           1       0.86      0.72      0.79       659\n",
      "\n",
      "    accuracy                           0.74       980\n",
      "   macro avg       0.72      0.74      0.72       980\n",
      "weighted avg       0.77      0.74      0.74       980\n",
      "\n",
      "OVERSAMPLING:\n",
      "Fitting 5 folds for each of 42 candidates, totalling 210 fits\n"
     ]
    },
    {
     "name": "stderr",
     "output_type": "stream",
     "text": [
      "[Parallel(n_jobs=-1)]: Done  40 tasks      | elapsed:    1.1s\n",
      "[Parallel(n_jobs=-1)]: Done 210 out of 210 | elapsed:   10.1s finished\n",
      "[Parallel(n_jobs=-1)]: Using backend LokyBackend with 4 concurrent workers.\n"
     ]
    },
    {
     "name": "stdout",
     "output_type": "stream",
     "text": [
      "Best Score: 0.792220\n",
      "Optimal Hyperparameter Values:  {'n_neighbors': 5, 'p': 1, 'weights': 'distance'}\n",
      "\n",
      "\n",
      "\n",
      "Train Accuracy:  1.0\n",
      "-----------------------------------------\n",
      "\n",
      "Test Accuracy:  0.7459183673469387\n",
      "\n",
      "Test Confusion Matrix:\n",
      "[[229  92]\n",
      " [157 502]]\n",
      "\n",
      "Test Precision = 0.845118\n",
      "Test Recall = 0.761760\n",
      "Test F1 Score = 0.801277\n",
      "\n",
      "Classification Report:\n",
      "              precision    recall  f1-score   support\n",
      "\n",
      "           0       0.59      0.71      0.65       321\n",
      "           1       0.85      0.76      0.80       659\n",
      "\n",
      "    accuracy                           0.75       980\n",
      "   macro avg       0.72      0.74      0.72       980\n",
      "weighted avg       0.76      0.75      0.75       980\n",
      "\n",
      "SMOTEENN:\n",
      "Fitting 5 folds for each of 42 candidates, totalling 210 fits\n"
     ]
    },
    {
     "name": "stderr",
     "output_type": "stream",
     "text": [
      "[Parallel(n_jobs=-1)]: Done  48 tasks      | elapsed:    0.9s\n"
     ]
    },
    {
     "name": "stdout",
     "output_type": "stream",
     "text": [
      "Best Score: 0.960089\n",
      "Optimal Hyperparameter Values:  {'n_neighbors': 5, 'p': 1, 'weights': 'distance'}\n",
      "\n",
      "\n",
      "\n",
      "Train Accuracy:  0.7378764675855028\n",
      "-----------------------------------------\n",
      "\n",
      "Test Accuracy:  0.6479591836734694\n",
      "\n",
      "Test Confusion Matrix:\n",
      "[[225  96]\n",
      " [249 410]]\n",
      "\n",
      "Test Precision = 0.810277\n",
      "Test Recall = 0.622155\n",
      "Test F1 Score = 0.703863\n",
      "\n",
      "Classification Report:\n",
      "              precision    recall  f1-score   support\n",
      "\n",
      "           0       0.47      0.70      0.57       321\n",
      "           1       0.81      0.62      0.70       659\n",
      "\n",
      "    accuracy                           0.65       980\n",
      "   macro avg       0.64      0.66      0.63       980\n",
      "weighted avg       0.70      0.65      0.66       980\n",
      "\n"
     ]
    },
    {
     "name": "stderr",
     "output_type": "stream",
     "text": [
      "[Parallel(n_jobs=-1)]: Done 210 out of 210 | elapsed:    5.8s finished\n"
     ]
    }
   ],
   "source": [
    "sampling_report()"
   ]
  },
  {
   "cell_type": "code",
   "execution_count": null,
   "metadata": {},
   "outputs": [],
   "source": []
  }
 ],
 "metadata": {
  "kernelspec": {
   "display_name": "Python 3",
   "language": "python",
   "name": "python3"
  },
  "language_info": {
   "codemirror_mode": {
    "name": "ipython",
    "version": 3
   },
   "file_extension": ".py",
   "mimetype": "text/x-python",
   "name": "python",
   "nbconvert_exporter": "python",
   "pygments_lexer": "ipython3",
   "version": "3.8.3"
  }
 },
 "nbformat": 4,
 "nbformat_minor": 4
}
